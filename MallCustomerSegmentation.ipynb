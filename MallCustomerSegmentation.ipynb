{
 "cells": [
  {
   "cell_type": "markdown",
   "metadata": {},
   "source": [
    "# Mall Customer Segmentation Analysis\n",
    "\n",
    "## Introduction\n",
    "\n",
    "As a data science student, I aim to apply unsupervised learning to segment mall customers based on their demographic and behavioral data. This project uses the Mall Customer Segmentation Data from Kaggle to identify distinct customer groups, which can help mall management tailor marketing strategies. My approach includes exploratory data analysis (EDA), clustering with unsupervised learning models, and hyperparameter optimization to ensure robust results. This notebook documents my process, from data collection to model evaluation, addressing the project rubric's requirements."
   ]
  },
  {
   "cell_type": "markdown",
   "metadata": {},
   "source": [
    "### Step 1: Data Gathering and Provenance\n",
    "\n",
    "#### Explanation\n",
    "\n",
    "I selected the \"Mall Customer Segmentation Data\" from Kaggle, a publicly available dataset ideal for clustering tasks. It contains 200 records with features: CustomerID, Gender, Age, Annual Income (in thousands of dollars), and Spending Score (1-100). The data is clean, with no missing values, and sourced from Kaggle (https://www.kaggle.com/vjchoudhary7/customer-segmentation-tutorial-in-python). I downloaded the CSV file and placed it in my working directory. My goal is to use this data to segment customers without predefined labels, making it suitable for unsupervised learning.\n"
   ]
  },
  {
   "cell_type": "code",
   "execution_count": null,
   "metadata": {},
   "outputs": [],
   "source": [
    "import pandas as pd\n",
    "\n",
    "# Load the dataset\n",
    "data = pd.read_csv('Mall_Customers.csv')\n",
    "\n",
    "# Display the first few rows and basic information\n",
    "print(data.head())\n",
    "print(data.info())\n",
    "print(data.describe())"
   ]
  },
  {
   "cell_type": "markdown",
   "metadata": {},
   "source": [
    "#### Analysis/Interpretation of Output\n",
    "\n",
    "The output from `data.head()` shows the first five rows of the dataset, confirming the presence of five columns: CustomerID, Gender, Age, Annual Income (k$), and Spending Score (1-100). The `data.info()` output verifies that there are 200 entries with no missing values, as all columns have 200 non-null entries. The data types are appropriate: `CustomerID`, `Age`, `Annual Income (k$)`, and `Spending Score (1-100)` are integers, while `Gender` is an object (string). The `data.describe()` output provides summary statistics, revealing that Age ranges from 18 to 70 (mean ~39), Annual Income from 15k to 137k (mean ~60.56k), and Spending Score from 1 to 99 (mean ~50.2). The standard deviations (e.g., ~26.26k for income, ~25.82 for spending score) suggest moderate variability, but the maximum income (137k) is notably higher than the 75th percentile (78k), hinting at potential outliers to explore later. This confirms the dataset is clean and suitable for clustering, with numerical features ready for scaling due to their differing ranges."
   ]
  },
  {
   "cell_type": "markdown",
   "metadata": {},
   "source": [
    "\n",
    "### Step 2: Identifying the Unsupervised Learning Problem\n",
    "\n",
    "#### Explanation\n",
    "\n",
    "The problem is to segment mall customers into meaningful groups based on their Age, Annual Income, and Spending Score, using unsupervised learning. Since the dataset has no target variable, clustering is appropriate. I hypothesize that customers can be grouped by spending behavior and demographics, which can inform targeted marketing. I'll use K-means clustering as my primary unsupervised model due to its simplicity and effectiveness for numerical data, and DBSCAN to explore density-based clustering, comparing their performance to meet the rubric's requirement for multiple models.\n",
    "\n",
    "### Step 3: Exploratory Data Analysis (EDA) - Initial Inspection and Cleaning\n",
    "\n",
    "#### Explanation\n",
    "\n",
    "I begin EDA by inspecting the dataset for missing values, data types, and basic statistics. Since the dataset is reportedly clean, I expect no missing values but will verify. I'll rename columns for clarity (e.g., \"Annual Income (k$)\" to \"Annual_Income\") and check for outliers using summary statistics. This step ensures the data is ready for visualization and modeling, addressing the rubric's 26-point EDA requirement."
   ]
  },
  {
   "cell_type": "code",
   "execution_count": null,
   "metadata": {},
   "outputs": [],
   "source": [
    "# Check for missing values\n",
    "print(\"Missing values:\\n\", data.isnull().sum())\n",
    "\n",
    "# Rename columns for clarity\n",
    "data.columns = ['CustomerID', 'Gender', 'Age', 'Annual_Income', 'Spending_Score']\n",
    "\n",
    "# Verify data types and summary statistics\n",
    "print(\"\\nData Types:\\n\", data.dtypes)\n",
    "print(\"\\nSummary Statistics:\\n\", data.describe())"
   ]
  },
  {
   "cell_type": "markdown",
   "metadata": {},
   "source": [
    "#### Analysis/Interpretation of Output\n",
    "\n",
    "The `isnull().sum()` output confirms no missing values across all columns, aligning with the dataset's reported cleanliness and eliminating the need for imputation. The `dtypes` output shows that after renaming columns, `CustomerID`, `Age`, `Annual_Income`, and `Spending_Score` are `int64`, and `Gender` is `object`, which is expected. This supports using numerical features directly for clustering and encoding `Gender` if included. The `describe()` output mirrors the earlier summary statistics, showing Age (18-70, mean ~38.85), Annual_Income (15-137k, mean ~60.56k), and Spending_Score (1-99, mean ~50.2). The wide range in Annual_Income (std ~26.26k) and the high maximum (137k) suggest potential outliers, which I’ll investigate via visualization. The differing scales (e.g., Age vs. Annual_Income) confirm the need for standardization before clustering to ensure equal feature influence. No immediate anomalies are evident, so I can proceed to visualization for deeper insights."
   ]
  },
  {
   "cell_type": "markdown",
   "metadata": {},
   "source": [
    "### Step 4: EDA - Visualizing Data Distributions\n",
    "\n",
    "#### Explanation\n",
    "\n",
    "To understand feature distributions, I'll create histograms for Age, Annual Income, and Spending Score, and a count plot for Gender. Box plots will help identify outliers. These visualizations reveal the spread and skewness of features, guiding preprocessing decisions (e.g., scaling). Visualizing Gender distribution ensures I account for categorical variables, potentially encoding them for clustering."
   ]
  },
  {
   "cell_type": "code",
   "execution_count": null,
   "metadata": {},
   "outputs": [],
   "source": [
    "import seaborn as sns\n",
    "import matplotlib.pyplot as plt\n",
    "\n",
    "# Set plot style\n",
    "sns.set(style=\"whitegrid\")\n",
    "\n",
    "# Histograms for numerical features\n",
    "plt.figure(figsize=(15, 5))\n",
    "for i, feature in enumerate(['Age', 'Annual_Income', 'Spending_Score'], 1):\n",
    "    plt.subplot(1, 3, i)\n",
    "    sns.distplot(data[feature], kde=True)\n",
    "    plt.title(f'Distribution of {feature}')\n",
    "plt.tight_layout()\n",
    "plt.show()\n",
    "\n",
    "# Count plot for Gender\n",
    "plt.figure(figsize=(6, 4))\n",
    "sns.countplot(x='Gender', data=data)\n",
    "plt.title('Gender Distribution')\n",
    "plt.show()\n",
    "\n",
    "# Box plots for numerical features\n",
    "plt.figure(figsize=(15, 5))\n",
    "for i, feature in enumerate(['Age', 'Annual_Income', 'Spending_Score'], 1):\n",
    "    plt.subplot(1, 3, i)\n",
    "    sns.boxplot(y=data[feature])\n",
    "    plt.title(f'Box Plot of {feature}')\n",
    "plt.tight_layout()\n",
    "plt.show()"
   ]
  },
  {
   "cell_type": "markdown",
   "metadata": {},
   "source": [
    "#### Analysis/Interpretation of Output\n",
    "The histograms show the distributions of Age, Annual_Income, and Spending_Score. Age is slightly right-skewed, with a peak around 30-40 years, indicating more younger to middle-aged customers. Annual_Income has a multimodal distribution, with peaks around 20-40k, 60-80k, and a smaller group above 100k, suggesting diverse income groups and possible outliers at the high end (e.g., 137k). Spending_Score appears roughly uniform, with slight peaks at the extremes (low and high scores), indicating varied spending behaviors. The Gender count plot shows a slightly higher number of female customers than males, suggesting a balanced but slightly female-skewed customer base. The box plots  confirm no extreme outliers for Age or Spending_Score, as no points lie beyond the whiskers. However, Annual_Income has a few points above the upper whisker (~100k), indicating mild outliers (e.g., ~137k). These findings suggest scaling is necessary due to different ranges and that outliers in income may represent valid high-earning customers, so I’ll retain them. I’ll also consider encoding Gender for clustering to explore its impact."
   ]
  },
  {
   "cell_type": "markdown",
   "metadata": {},
   "source": [
    "### Step 5: EDA - Correlation Analysis\n",
    "\n",
    "#### Explanation\n",
    "\n",
    "I'll compute and visualize correlations between numerical features (Age, Annual Income, Spending Score) using a heatmap. This helps identify relationships that may influence clustering (e.g., if high income correlates with high spending). Since clustering assumes feature independence, strong correlations may require feature selection or transformation. I'll also consider Gender's impact qualitatively."
   ]
  },
  {
   "cell_type": "code",
   "execution_count": null,
   "metadata": {},
   "outputs": [],
   "source": [
    "# Compute correlation matrix\n",
    "corr_matrix = data[['Age', 'Annual_Income', 'Spending_Score']].corr()\n",
    "\n",
    "# Plot heatmap\n",
    "plt.figure(figsize=(8, 6))\n",
    "sns.heatmap(corr_matrix, annot=True, cmap='coolwarm', vmin=-1, vmax=1)\n",
    "plt.title('Correlation Heatmap')\n",
    "plt.show()\n",
    "print(corr_matrix)"
   ]
  },
  {
   "cell_type": "markdown",
   "metadata": {},
   "source": [
    "#### Analysis/Interpretation of Output\n",
    "\n",
    "The correlation heatmap and matrix show the relationships between Age, Annual_Income, and Spending_Score. The correlation between Age and Spending_Score is moderately negative (-0.327), suggesting that younger customers tend to have higher spending scores, which could influence cluster formation. The correlation between Annual_Income and Spending_Score is very weak (0.0099), indicating little linear relationship, which is surprising as I expected higher income to correlate with higher spending. The correlation between Age and Annual_Income is also negligible (-0.0124), suggesting these features are largely independent. These weak correlations are favorable for clustering, as K-means assumes feature independence, reducing the need for feature selection or transformation. However, the moderate Age-Spending_Score correlation suggests clusters may separate based on age-related spending patterns. I’ll proceed with all three numerical features for clustering, as they provide distinct information, and qualitatively assess Gender’s role later."
   ]
  }
 ],
 "metadata": {
  "kernelspec": {
   "display_name": "Python 3",
   "language": "python",
   "name": "python3"
  },
  "language_info": {
   "codemirror_mode": {
    "name": "ipython",
    "version": 3
   },
   "file_extension": ".py",
   "mimetype": "text/x-python",
   "name": "python",
   "nbconvert_exporter": "python",
   "pygments_lexer": "ipython3",
   "version": "3.12.3"
  }
 },
 "nbformat": 4,
 "nbformat_minor": 2
}
